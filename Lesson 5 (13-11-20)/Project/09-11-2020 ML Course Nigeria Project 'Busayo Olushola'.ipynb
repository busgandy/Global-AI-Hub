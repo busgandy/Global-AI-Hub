{
  "nbformat": 4,
  "nbformat_minor": 0,
  "metadata": {
    "kernelspec": {
      "display_name": "Python 3",
      "language": "python",
      "name": "python3"
    },
    "language_info": {
      "codemirror_mode": {
        "name": "ipython",
        "version": 3
      },
      "file_extension": ".py",
      "mimetype": "text/x-python",
      "name": "python",
      "nbconvert_exporter": "python",
      "pygments_lexer": "ipython3",
      "version": "3.7.6"
    },
    "colab": {
      "name": "09-11-2020 ML Course Nigeria Project 'name'.ipynb",
      "provenance": [],
      "include_colab_link": true
    }
  },
  "cells": [
    {
      "cell_type": "markdown",
      "metadata": {
        "id": "view-in-github",
        "colab_type": "text"
      },
      "source": [
        "<a href=\"https://colab.research.google.com/github/busgandy/Global-AI-Hub/blob/main/Lesson%205%20(13-11-20)/Project/09-11-2020%20ML%20Course%20Nigeria%20Project%20'Busayo%20Olushola'.ipynb\" target=\"_parent\"><img src=\"https://colab.research.google.com/assets/colab-badge.svg\" alt=\"Open In Colab\"/></a>"
      ]
    },
    {
      "cell_type": "markdown",
      "metadata": {
        "id": "kVQChb-QMhtr"
      },
      "source": [
        ""
      ]
    },
    {
      "cell_type": "markdown",
      "metadata": {
        "id": "oIENAOYCJjc7"
      },
      "source": [
        "# Project\n",
        "\n",
        "In this project, our aim is to building a model for predicting churn. Churn is the percentage of customers that stopped using your company's product or service during a certain time frame. Thus, in the given dataset, our label will be `Churn` column.\n",
        "\n",
        "## Steps\n",
        "- Read the `churn.csv` file and describe it.\n",
        "- Make at least 4 different analysis on Exploratory Data Analysis section.\n",
        "- Pre-process the dataset to get ready for ML application. (Check missing data and handle them, can we need to do scaling or feature extraction etc.)\n",
        "- Define appropriate evaluation metric for our case (classification).\n",
        "- Train and evaluate Logistic Regression, Decision Trees and one other appropriate algorithm which you can choose from scikit-learn library.\n",
        "- Is there any overfitting and underfitting? Interpret your results and try to overcome if there is any problem in a new section.\n",
        "- Create confusion metrics for each algorithm and display Accuracy, Recall, Precision and F1-Score values.\n",
        "- Analyse and compare results of 3 algorithms.\n",
        "- Select best performing model based on evaluation metric you chose on test dataset.\n",
        "\n",
        "\n",
        "Good luck :)"
      ]
    },
    {
      "cell_type": "markdown",
      "metadata": {
        "id": "vcKd6V8eJjdD"
      },
      "source": [
        "<h2>Busayo Olushola</h2>"
      ]
    },
    {
      "cell_type": "markdown",
      "metadata": {
        "id": "zM2aOr2_JjdE"
      },
      "source": [
        "# Data"
      ]
    },
    {
      "cell_type": "code",
      "metadata": {
        "id": "xfyMeDiiJjdF"
      },
      "source": [
        "import pandas as pd\n",
        "import seaborn as sns\n",
        "import numpy as np\n",
        "import matplotlib.pyplot as plt\n",
        "sns.set_style('darkgrid')\n",
        "import warnings\n",
        "warnings.filterwarnings(\"ignore\")\n",
        "%matplotlib inline"
      ],
      "execution_count": 1,
      "outputs": []
    },
    {
      "cell_type": "code",
      "metadata": {
        "id": "zIpRdZhHJjdN",
        "outputId": "b27d179d-221d-4274-eab2-c284b2b977c7",
        "colab": {
          "base_uri": "https://localhost:8080/",
          "height": 189
        }
      },
      "source": [
        "# Read csv\n",
        "data = pd.read_csv(\"https://github.com/busgandy/Global-AI-Hub/blob/main/Lesson%205%20(13-11-20)/Project/data/churn.csv?raw=true\")\n",
        "data.head()"
      ],
      "execution_count": 2,
      "outputs": [
        {
          "output_type": "execute_result",
          "data": {
            "text/html": [
              "<div>\n",
              "<style scoped>\n",
              "    .dataframe tbody tr th:only-of-type {\n",
              "        vertical-align: middle;\n",
              "    }\n",
              "\n",
              "    .dataframe tbody tr th {\n",
              "        vertical-align: top;\n",
              "    }\n",
              "\n",
              "    .dataframe thead th {\n",
              "        text-align: right;\n",
              "    }\n",
              "</style>\n",
              "<table border=\"1\" class=\"dataframe\">\n",
              "  <thead>\n",
              "    <tr style=\"text-align: right;\">\n",
              "      <th></th>\n",
              "      <th>Churn</th>\n",
              "      <th>AccountWeeks</th>\n",
              "      <th>ContractRenewal</th>\n",
              "      <th>DataPlan</th>\n",
              "      <th>DataUsage</th>\n",
              "      <th>CustServCalls</th>\n",
              "      <th>DayMins</th>\n",
              "      <th>DayCalls</th>\n",
              "      <th>MonthlyCharge</th>\n",
              "      <th>OverageFee</th>\n",
              "      <th>RoamMins</th>\n",
              "    </tr>\n",
              "  </thead>\n",
              "  <tbody>\n",
              "    <tr>\n",
              "      <th>0</th>\n",
              "      <td>0</td>\n",
              "      <td>128</td>\n",
              "      <td>1</td>\n",
              "      <td>1</td>\n",
              "      <td>2.7</td>\n",
              "      <td>1</td>\n",
              "      <td>265.1</td>\n",
              "      <td>110</td>\n",
              "      <td>89.0</td>\n",
              "      <td>9.87</td>\n",
              "      <td>10.0</td>\n",
              "    </tr>\n",
              "    <tr>\n",
              "      <th>1</th>\n",
              "      <td>0</td>\n",
              "      <td>107</td>\n",
              "      <td>1</td>\n",
              "      <td>1</td>\n",
              "      <td>3.7</td>\n",
              "      <td>1</td>\n",
              "      <td>161.6</td>\n",
              "      <td>123</td>\n",
              "      <td>82.0</td>\n",
              "      <td>9.78</td>\n",
              "      <td>13.7</td>\n",
              "    </tr>\n",
              "    <tr>\n",
              "      <th>2</th>\n",
              "      <td>0</td>\n",
              "      <td>137</td>\n",
              "      <td>1</td>\n",
              "      <td>0</td>\n",
              "      <td>0.0</td>\n",
              "      <td>0</td>\n",
              "      <td>243.4</td>\n",
              "      <td>114</td>\n",
              "      <td>52.0</td>\n",
              "      <td>6.06</td>\n",
              "      <td>12.2</td>\n",
              "    </tr>\n",
              "    <tr>\n",
              "      <th>3</th>\n",
              "      <td>0</td>\n",
              "      <td>84</td>\n",
              "      <td>0</td>\n",
              "      <td>0</td>\n",
              "      <td>0.0</td>\n",
              "      <td>2</td>\n",
              "      <td>299.4</td>\n",
              "      <td>71</td>\n",
              "      <td>57.0</td>\n",
              "      <td>3.10</td>\n",
              "      <td>6.6</td>\n",
              "    </tr>\n",
              "    <tr>\n",
              "      <th>4</th>\n",
              "      <td>0</td>\n",
              "      <td>75</td>\n",
              "      <td>0</td>\n",
              "      <td>0</td>\n",
              "      <td>0.0</td>\n",
              "      <td>3</td>\n",
              "      <td>166.7</td>\n",
              "      <td>113</td>\n",
              "      <td>41.0</td>\n",
              "      <td>7.42</td>\n",
              "      <td>10.1</td>\n",
              "    </tr>\n",
              "  </tbody>\n",
              "</table>\n",
              "</div>"
            ],
            "text/plain": [
              "   Churn  AccountWeeks  ContractRenewal  ...  MonthlyCharge  OverageFee  RoamMins\n",
              "0      0           128                1  ...           89.0        9.87      10.0\n",
              "1      0           107                1  ...           82.0        9.78      13.7\n",
              "2      0           137                1  ...           52.0        6.06      12.2\n",
              "3      0            84                0  ...           57.0        3.10       6.6\n",
              "4      0            75                0  ...           41.0        7.42      10.1\n",
              "\n",
              "[5 rows x 11 columns]"
            ]
          },
          "metadata": {
            "tags": []
          },
          "execution_count": 2
        }
      ]
    },
    {
      "cell_type": "code",
      "metadata": {
        "id": "4NIpdzk2JjdV",
        "outputId": "3ada86ef-81fb-4022-bef6-46d59f84814c",
        "colab": {
          "base_uri": "https://localhost:8080/"
        }
      },
      "source": [
        "data[\"ContractRenewal\"].unique()"
      ],
      "execution_count": 3,
      "outputs": [
        {
          "output_type": "execute_result",
          "data": {
            "text/plain": [
              "array([1, 0])"
            ]
          },
          "metadata": {
            "tags": []
          },
          "execution_count": 3
        }
      ]
    },
    {
      "cell_type": "code",
      "metadata": {
        "id": "wThxo6i9Jjda",
        "outputId": "3d915eb9-fadc-43b7-8eb6-151ca9641655",
        "colab": {
          "base_uri": "https://localhost:8080/"
        }
      },
      "source": [
        "data[\"DataPlan\"].unique()"
      ],
      "execution_count": 4,
      "outputs": [
        {
          "output_type": "execute_result",
          "data": {
            "text/plain": [
              "array([1, 0])"
            ]
          },
          "metadata": {
            "tags": []
          },
          "execution_count": 4
        }
      ]
    },
    {
      "cell_type": "code",
      "metadata": {
        "id": "Ec1HRMNZJjdg"
      },
      "source": [
        "# Describe our data for each feature and use .info() for get information about our dataset\n",
        "# Analys missing values"
      ],
      "execution_count": 5,
      "outputs": []
    },
    {
      "cell_type": "code",
      "metadata": {
        "id": "ENHaURJWJjdl",
        "outputId": "469c09aa-6822-4fe5-f1b8-08d6b39dd7ea",
        "colab": {
          "base_uri": "https://localhost:8080/"
        }
      },
      "source": [
        "data.info()"
      ],
      "execution_count": 6,
      "outputs": [
        {
          "output_type": "stream",
          "text": [
            "<class 'pandas.core.frame.DataFrame'>\n",
            "RangeIndex: 3333 entries, 0 to 3332\n",
            "Data columns (total 11 columns):\n",
            " #   Column           Non-Null Count  Dtype  \n",
            "---  ------           --------------  -----  \n",
            " 0   Churn            3333 non-null   int64  \n",
            " 1   AccountWeeks     3333 non-null   int64  \n",
            " 2   ContractRenewal  3333 non-null   int64  \n",
            " 3   DataPlan         3333 non-null   int64  \n",
            " 4   DataUsage        3333 non-null   float64\n",
            " 5   CustServCalls    3333 non-null   int64  \n",
            " 6   DayMins          3333 non-null   float64\n",
            " 7   DayCalls         3333 non-null   int64  \n",
            " 8   MonthlyCharge    3333 non-null   float64\n",
            " 9   OverageFee       3333 non-null   float64\n",
            " 10  RoamMins         3333 non-null   float64\n",
            "dtypes: float64(5), int64(6)\n",
            "memory usage: 286.6 KB\n"
          ],
          "name": "stdout"
        }
      ]
    },
    {
      "cell_type": "code",
      "metadata": {
        "id": "gwqyuXsnJjdr",
        "outputId": "e80d00e7-0d5e-4531-a89c-0cecfc36893f",
        "colab": {
          "base_uri": "https://localhost:8080/"
        }
      },
      "source": [
        "data.isna().sum()"
      ],
      "execution_count": 7,
      "outputs": [
        {
          "output_type": "execute_result",
          "data": {
            "text/plain": [
              "Churn              0\n",
              "AccountWeeks       0\n",
              "ContractRenewal    0\n",
              "DataPlan           0\n",
              "DataUsage          0\n",
              "CustServCalls      0\n",
              "DayMins            0\n",
              "DayCalls           0\n",
              "MonthlyCharge      0\n",
              "OverageFee         0\n",
              "RoamMins           0\n",
              "dtype: int64"
            ]
          },
          "metadata": {
            "tags": []
          },
          "execution_count": 7
        }
      ]
    },
    {
      "cell_type": "markdown",
      "metadata": {
        "id": "_85c_gQHJjdx"
      },
      "source": [
        "# Exploratory Data Analysis"
      ]
    },
    {
      "cell_type": "code",
      "metadata": {
        "id": "KjkfdcBFJjdy"
      },
      "source": [
        "# Our label Distribution (countplot)\n"
      ],
      "execution_count": 8,
      "outputs": []
    },
    {
      "cell_type": "code",
      "metadata": {
        "id": "L-oLC03AJjd3",
        "outputId": "5079c279-ff76-41f0-aad0-6102783fbbe9",
        "colab": {
          "base_uri": "https://localhost:8080/",
          "height": 294
        }
      },
      "source": [
        "data[\"Churn\"].value_counts().plot.bar()\n",
        "plt.ylabel('counts')\n",
        "plt.xlabel('Churn')"
      ],
      "execution_count": 9,
      "outputs": [
        {
          "output_type": "execute_result",
          "data": {
            "text/plain": [
              "Text(0.5, 0, 'Churn')"
            ]
          },
          "metadata": {
            "tags": []
          },
          "execution_count": 9
        },
        {
          "output_type": "display_data",
          "data": {
            "image/png": "[encoded data removed]",
            "text/plain": [
              "<Figure size 432x288 with 1 Axes>"
            ]
          },
          "metadata": {
            "tags": [],
            "needs_background": "light"
          }
        }
      ]
    },
    {
      "cell_type": "code",
      "metadata": {
        "id": "yhnTWmqfJjd7",
        "outputId": "f7be2a11-d63e-48ea-ffbe-1735abd5a2d5",
        "colab": {
          "base_uri": "https://localhost:8080/",
          "height": 294
        }
      },
      "source": [
        "data[\"ContractRenewal\"].value_counts().plot.bar()\n",
        "plt.ylabel(\"counts\")\n",
        "plt.xlabel(\"ContractRenewal\")"
      ],
      "execution_count": 10,
      "outputs": [
        {
          "output_type": "execute_result",
          "data": {
            "text/plain": [
              "Text(0.5, 0, 'ContractRenewal')"
            ]
          },
          "metadata": {
            "tags": []
          },
          "execution_count": 10
        },
        {
          "output_type": "display_data",
          "data": {
            "image/png": "[encoded data removed]",
            "text/plain": [
              "<Figure size 432x288 with 1 Axes>"
            ]
          },
          "metadata": {
            "tags": [],
            "needs_background": "light"
          }
        }
      ]
    },
    {
      "cell_type": "code",
      "metadata": {
        "id": "ZijtBzkcJjeB",
        "outputId": "e589dc09-2b57-4ef4-9715-8e3192e55ec5",
        "colab": {
          "base_uri": "https://localhost:8080/",
          "height": 295
        }
      },
      "source": [
        "data[\"DataPlan\"].value_counts().plot.bar()\n",
        "plt.ylabel(\"counts\")\n",
        "plt.xlabel(\"DataPlan\")"
      ],
      "execution_count": 11,
      "outputs": [
        {
          "output_type": "execute_result",
          "data": {
            "text/plain": [
              "Text(0.5, 0, 'DataPlan')"
            ]
          },
          "metadata": {
            "tags": []
          },
          "execution_count": 11
        },
        {
          "output_type": "display_data",
          "data": {
            "image/png": "[encoded data removed]",
            "text/plain": [
              "<Figure size 432x288 with 1 Axes>"
            ]
          },
          "metadata": {
            "tags": [],
            "needs_background": "light"
          }
        }
      ]
    },
    {
      "cell_type": "code",
      "metadata": {
        "id": "Nj5hhvqLJjeK",
        "outputId": "ebc05f71-0186-4384-9486-165cec003dbf",
        "colab": {
          "base_uri": "https://localhost:8080/",
          "height": 297
        }
      },
      "source": [
        "# Example EDA\n",
        "sns.distplot(data[\"AccountWeeks\"])\n",
        "plt.ylabel(\"counts\")"
      ],
      "execution_count": 12,
      "outputs": [
        {
          "output_type": "execute_result",
          "data": {
            "text/plain": [
              "Text(0, 0.5, 'counts')"
            ]
          },
          "metadata": {
            "tags": []
          },
          "execution_count": 12
        },
        {
          "output_type": "display_data",
          "data": {
            "image/png": "[encoded data removed]",
            "text/plain": [
              "<Figure size 432x288 with 1 Axes>"
            ]
          },
          "metadata": {
            "tags": [],
            "needs_background": "light"
          }
        }
      ]
    },
    {
      "cell_type": "code",
      "metadata": {
        "id": "-f48C5v1OLCp",
        "outputId": "587370a5-67a8-4be1-8dda-7bfaa0c9f905",
        "colab": {
          "base_uri": "https://localhost:8080/",
          "height": 297
        }
      },
      "source": [
        "# Example EDA\n",
        "sns.distplot(data[\"DayCalls\"])\n",
        "plt.ylabel(\"counts\")"
      ],
      "execution_count": 13,
      "outputs": [
        {
          "output_type": "execute_result",
          "data": {
            "text/plain": [
              "Text(0, 0.5, 'counts')"
            ]
          },
          "metadata": {
            "tags": []
          },
          "execution_count": 13
        },
        {
          "output_type": "display_data",
          "data": {
            "image/png": "[encoded data removed]",
            "text/plain": [
              "<Figure size 432x288 with 1 Axes>"
            ]
          },
          "metadata": {
            "tags": [],
            "needs_background": "light"
          }
        }
      ]
    },
    {
      "cell_type": "code",
      "metadata": {
        "id": "AgpYUxubmlPD",
        "outputId": "29b2c930-932b-4551-b527-3622b8ad2b80",
        "colab": {
          "base_uri": "https://localhost:8080/"
        }
      },
      "source": [
        "from scipy import stats\n",
        "import numpy as np\n",
        "z = np.abs(stats.zscore(data))\n",
        "z"
      ],
      "execution_count": 14,
      "outputs": [
        {
          "output_type": "execute_result",
          "data": {
            "text/plain": [
              "array([[0.41167182, 0.67648946, 0.32758048, ..., 1.99072703, 0.0715836 ,\n",
              "        0.08500823],\n",
              "       [0.41167182, 0.14906505, 0.32758048, ..., 1.56451025, 0.10708191,\n",
              "        1.24048169],\n",
              "       [0.41167182, 0.9025285 , 0.32758048, ..., 0.26213309, 1.57434567,\n",
              "        0.70312091],\n",
              "       ...,\n",
              "       [0.41167182, 1.83505538, 0.32758048, ..., 0.01858065, 1.73094204,\n",
              "        1.3837779 ],\n",
              "       [0.41167182, 2.08295458, 3.05268496, ..., 0.38390932, 0.81704825,\n",
              "        1.87621082],\n",
              "       [0.41167182, 0.67974475, 0.32758048, ..., 2.66049626, 1.28129669,\n",
              "        1.24048169]])"
            ]
          },
          "metadata": {
            "tags": []
          },
          "execution_count": 14
        }
      ]
    },
    {
      "cell_type": "code",
      "metadata": {
        "id": "zrrAFjyAmlaP",
        "outputId": "90949269-5413-4dd9-c1c0-79770774f0f5",
        "colab": {
          "base_uri": "https://localhost:8080/"
        }
      },
      "source": [
        "outliers = list(set(np.where(z > 3)[0]))\n",
        "\n",
        "len(outliers)"
      ],
      "execution_count": 15,
      "outputs": [
        {
          "output_type": "execute_result",
          "data": {
            "text/plain": [
              "414"
            ]
          },
          "metadata": {
            "tags": []
          },
          "execution_count": 15
        }
      ]
    },
    {
      "cell_type": "code",
      "metadata": {
        "id": "cDmVOZalm0TI",
        "outputId": "02775d00-4f4f-4b29-a003-e3a169cc2fc1",
        "colab": {
          "base_uri": "https://localhost:8080/",
          "height": 388
        }
      },
      "source": [
        "new_data = data.drop(outliers,axis = 0).reset_index(drop = False)\n",
        "display(new_data)\n",
        "\n",
        "# y_new = y[list(new_data[\"index\"])]\n",
        "# len(y_new)"
      ],
      "execution_count": 16,
      "outputs": [
        {
          "output_type": "display_data",
          "data": {
            "text/html": [
              "<div>\n",
              "<style scoped>\n",
              "    .dataframe tbody tr th:only-of-type {\n",
              "        vertical-align: middle;\n",
              "    }\n",
              "\n",
              "    .dataframe tbody tr th {\n",
              "        vertical-align: top;\n",
              "    }\n",
              "\n",
              "    .dataframe thead th {\n",
              "        text-align: right;\n",
              "    }\n",
              "</style>\n",
              "<table border=\"1\" class=\"dataframe\">\n",
              "  <thead>\n",
              "    <tr style=\"text-align: right;\">\n",
              "      <th></th>\n",
              "      <th>index</th>\n",
              "      <th>Churn</th>\n",
              "      <th>AccountWeeks</th>\n",
              "      <th>ContractRenewal</th>\n",
              "      <th>DataPlan</th>\n",
              "      <th>DataUsage</th>\n",
              "      <th>CustServCalls</th>\n",
              "      <th>DayMins</th>\n",
              "      <th>DayCalls</th>\n",
              "      <th>MonthlyCharge</th>\n",
              "      <th>OverageFee</th>\n",
              "      <th>RoamMins</th>\n",
              "    </tr>\n",
              "  </thead>\n",
              "  <tbody>\n",
              "    <tr>\n",
              "      <th>0</th>\n",
              "      <td>0</td>\n",
              "      <td>0</td>\n",
              "      <td>128</td>\n",
              "      <td>1</td>\n",
              "      <td>1</td>\n",
              "      <td>2.70</td>\n",
              "      <td>1</td>\n",
              "      <td>265.1</td>\n",
              "      <td>110</td>\n",
              "      <td>89.0</td>\n",
              "      <td>9.87</td>\n",
              "      <td>10.0</td>\n",
              "    </tr>\n",
              "    <tr>\n",
              "      <th>1</th>\n",
              "      <td>1</td>\n",
              "      <td>0</td>\n",
              "      <td>107</td>\n",
              "      <td>1</td>\n",
              "      <td>1</td>\n",
              "      <td>3.70</td>\n",
              "      <td>1</td>\n",
              "      <td>161.6</td>\n",
              "      <td>123</td>\n",
              "      <td>82.0</td>\n",
              "      <td>9.78</td>\n",
              "      <td>13.7</td>\n",
              "    </tr>\n",
              "    <tr>\n",
              "      <th>2</th>\n",
              "      <td>2</td>\n",
              "      <td>0</td>\n",
              "      <td>137</td>\n",
              "      <td>1</td>\n",
              "      <td>0</td>\n",
              "      <td>0.00</td>\n",
              "      <td>0</td>\n",
              "      <td>243.4</td>\n",
              "      <td>114</td>\n",
              "      <td>52.0</td>\n",
              "      <td>6.06</td>\n",
              "      <td>12.2</td>\n",
              "    </tr>\n",
              "    <tr>\n",
              "      <th>3</th>\n",
              "      <td>6</td>\n",
              "      <td>0</td>\n",
              "      <td>121</td>\n",
              "      <td>1</td>\n",
              "      <td>1</td>\n",
              "      <td>2.03</td>\n",
              "      <td>3</td>\n",
              "      <td>218.2</td>\n",
              "      <td>88</td>\n",
              "      <td>87.3</td>\n",
              "      <td>17.43</td>\n",
              "      <td>7.5</td>\n",
              "    </tr>\n",
              "    <tr>\n",
              "      <th>4</th>\n",
              "      <td>8</td>\n",
              "      <td>0</td>\n",
              "      <td>117</td>\n",
              "      <td>1</td>\n",
              "      <td>0</td>\n",
              "      <td>0.19</td>\n",
              "      <td>1</td>\n",
              "      <td>184.5</td>\n",
              "      <td>97</td>\n",
              "      <td>63.9</td>\n",
              "      <td>17.58</td>\n",
              "      <td>8.7</td>\n",
              "    </tr>\n",
              "    <tr>\n",
              "      <th>...</th>\n",
              "      <td>...</td>\n",
              "      <td>...</td>\n",
              "      <td>...</td>\n",
              "      <td>...</td>\n",
              "      <td>...</td>\n",
              "      <td>...</td>\n",
              "      <td>...</td>\n",
              "      <td>...</td>\n",
              "      <td>...</td>\n",
              "      <td>...</td>\n",
              "      <td>...</td>\n",
              "      <td>...</td>\n",
              "    </tr>\n",
              "    <tr>\n",
              "      <th>2914</th>\n",
              "      <td>3327</td>\n",
              "      <td>0</td>\n",
              "      <td>79</td>\n",
              "      <td>1</td>\n",
              "      <td>0</td>\n",
              "      <td>0.00</td>\n",
              "      <td>2</td>\n",
              "      <td>134.7</td>\n",
              "      <td>98</td>\n",
              "      <td>40.0</td>\n",
              "      <td>9.49</td>\n",
              "      <td>11.8</td>\n",
              "    </tr>\n",
              "    <tr>\n",
              "      <th>2915</th>\n",
              "      <td>3328</td>\n",
              "      <td>0</td>\n",
              "      <td>192</td>\n",
              "      <td>1</td>\n",
              "      <td>1</td>\n",
              "      <td>2.67</td>\n",
              "      <td>2</td>\n",
              "      <td>156.2</td>\n",
              "      <td>77</td>\n",
              "      <td>71.7</td>\n",
              "      <td>10.78</td>\n",
              "      <td>9.9</td>\n",
              "    </tr>\n",
              "    <tr>\n",
              "      <th>2916</th>\n",
              "      <td>3329</td>\n",
              "      <td>0</td>\n",
              "      <td>68</td>\n",
              "      <td>1</td>\n",
              "      <td>0</td>\n",
              "      <td>0.34</td>\n",
              "      <td>3</td>\n",
              "      <td>231.1</td>\n",
              "      <td>57</td>\n",
              "      <td>56.4</td>\n",
              "      <td>7.67</td>\n",
              "      <td>9.6</td>\n",
              "    </tr>\n",
              "    <tr>\n",
              "      <th>2917</th>\n",
              "      <td>3330</td>\n",
              "      <td>0</td>\n",
              "      <td>28</td>\n",
              "      <td>1</td>\n",
              "      <td>0</td>\n",
              "      <td>0.00</td>\n",
              "      <td>2</td>\n",
              "      <td>180.8</td>\n",
              "      <td>109</td>\n",
              "      <td>56.0</td>\n",
              "      <td>14.44</td>\n",
              "      <td>14.1</td>\n",
              "    </tr>\n",
              "    <tr>\n",
              "      <th>2918</th>\n",
              "      <td>3332</td>\n",
              "      <td>0</td>\n",
              "      <td>74</td>\n",
              "      <td>1</td>\n",
              "      <td>1</td>\n",
              "      <td>3.70</td>\n",
              "      <td>0</td>\n",
              "      <td>234.4</td>\n",
              "      <td>113</td>\n",
              "      <td>100.0</td>\n",
              "      <td>13.30</td>\n",
              "      <td>13.7</td>\n",
              "    </tr>\n",
              "  </tbody>\n",
              "</table>\n",
              "<p>2919 rows × 12 columns</p>\n",
              "</div>"
            ],
            "text/plain": [
              "      index  Churn  AccountWeeks  ...  MonthlyCharge  OverageFee  RoamMins\n",
              "0         0      0           128  ...           89.0        9.87      10.0\n",
              "1         1      0           107  ...           82.0        9.78      13.7\n",
              "2         2      0           137  ...           52.0        6.06      12.2\n",
              "3         6      0           121  ...           87.3       17.43       7.5\n",
              "4         8      0           117  ...           63.9       17.58       8.7\n",
              "...     ...    ...           ...  ...            ...         ...       ...\n",
              "2914   3327      0            79  ...           40.0        9.49      11.8\n",
              "2915   3328      0           192  ...           71.7       10.78       9.9\n",
              "2916   3329      0            68  ...           56.4        7.67       9.6\n",
              "2917   3330      0            28  ...           56.0       14.44      14.1\n",
              "2918   3332      0            74  ...          100.0       13.30      13.7\n",
              "\n",
              "[2919 rows x 12 columns]"
            ]
          },
          "metadata": {
            "tags": []
          }
        }
      ]
    },
    {
      "cell_type": "code",
      "metadata": {
        "id": "pL1nIKf-m0XP"
      },
      "source": [
        "new_data = new_data.drop('index', axis = 1)"
      ],
      "execution_count": 17,
      "outputs": []
    },
    {
      "cell_type": "code",
      "metadata": {
        "id": "Bknpv-Csm0b0",
        "outputId": "6d25b17f-a1e5-4e0b-c920-b45181279598",
        "colab": {
          "base_uri": "https://localhost:8080/",
          "height": 388
        }
      },
      "source": [
        "display(new_data)"
      ],
      "execution_count": 18,
      "outputs": [
        {
          "output_type": "display_data",
          "data": {
            "text/html": [
              "<div>\n",
              "<style scoped>\n",
              "    .dataframe tbody tr th:only-of-type {\n",
              "        vertical-align: middle;\n",
              "    }\n",
              "\n",
              "    .dataframe tbody tr th {\n",
              "        vertical-align: top;\n",
              "    }\n",
              "\n",
              "    .dataframe thead th {\n",
              "        text-align: right;\n",
              "    }\n",
              "</style>\n",
              "<table border=\"1\" class=\"dataframe\">\n",
              "  <thead>\n",
              "    <tr style=\"text-align: right;\">\n",
              "      <th></th>\n",
              "      <th>Churn</th>\n",
              "      <th>AccountWeeks</th>\n",
              "      <th>ContractRenewal</th>\n",
              "      <th>DataPlan</th>\n",
              "      <th>DataUsage</th>\n",
              "      <th>CustServCalls</th>\n",
              "      <th>DayMins</th>\n",
              "      <th>DayCalls</th>\n",
              "      <th>MonthlyCharge</th>\n",
              "      <th>OverageFee</th>\n",
              "      <th>RoamMins</th>\n",
              "    </tr>\n",
              "  </thead>\n",
              "  <tbody>\n",
              "    <tr>\n",
              "      <th>0</th>\n",
              "      <td>0</td>\n",
              "      <td>128</td>\n",
              "      <td>1</td>\n",
              "      <td>1</td>\n",
              "      <td>2.70</td>\n",
              "      <td>1</td>\n",
              "      <td>265.1</td>\n",
              "      <td>110</td>\n",
              "      <td>89.0</td>\n",
              "      <td>9.87</td>\n",
              "      <td>10.0</td>\n",
              "    </tr>\n",
              "    <tr>\n",
              "      <th>1</th>\n",
              "      <td>0</td>\n",
              "      <td>107</td>\n",
              "      <td>1</td>\n",
              "      <td>1</td>\n",
              "      <td>3.70</td>\n",
              "      <td>1</td>\n",
              "      <td>161.6</td>\n",
              "      <td>123</td>\n",
              "      <td>82.0</td>\n",
              "      <td>9.78</td>\n",
              "      <td>13.7</td>\n",
              "    </tr>\n",
              "    <tr>\n",
              "      <th>2</th>\n",
              "      <td>0</td>\n",
              "      <td>137</td>\n",
              "      <td>1</td>\n",
              "      <td>0</td>\n",
              "      <td>0.00</td>\n",
              "      <td>0</td>\n",
              "      <td>243.4</td>\n",
              "      <td>114</td>\n",
              "      <td>52.0</td>\n",
              "      <td>6.06</td>\n",
              "      <td>12.2</td>\n",
              "    </tr>\n",
              "    <tr>\n",
              "      <th>3</th>\n",
              "      <td>0</td>\n",
              "      <td>121</td>\n",
              "      <td>1</td>\n",
              "      <td>1</td>\n",
              "      <td>2.03</td>\n",
              "      <td>3</td>\n",
              "      <td>218.2</td>\n",
              "      <td>88</td>\n",
              "      <td>87.3</td>\n",
              "      <td>17.43</td>\n",
              "      <td>7.5</td>\n",
              "    </tr>\n",
              "    <tr>\n",
              "      <th>4</th>\n",
              "      <td>0</td>\n",
              "      <td>117</td>\n",
              "      <td>1</td>\n",
              "      <td>0</td>\n",
              "      <td>0.19</td>\n",
              "      <td>1</td>\n",
              "      <td>184.5</td>\n",
              "      <td>97</td>\n",
              "      <td>63.9</td>\n",
              "      <td>17.58</td>\n",
              "      <td>8.7</td>\n",
              "    </tr>\n",
              "    <tr>\n",
              "      <th>...</th>\n",
              "      <td>...</td>\n",
              "      <td>...</td>\n",
              "      <td>...</td>\n",
              "      <td>...</td>\n",
              "      <td>...</td>\n",
              "      <td>...</td>\n",
              "      <td>...</td>\n",
              "      <td>...</td>\n",
              "      <td>...</td>\n",
              "      <td>...</td>\n",
              "      <td>...</td>\n",
              "    </tr>\n",
              "    <tr>\n",
              "      <th>2914</th>\n",
              "      <td>0</td>\n",
              "      <td>79</td>\n",
              "      <td>1</td>\n",
              "      <td>0</td>\n",
              "      <td>0.00</td>\n",
              "      <td>2</td>\n",
              "      <td>134.7</td>\n",
              "      <td>98</td>\n",
              "      <td>40.0</td>\n",
              "      <td>9.49</td>\n",
              "      <td>11.8</td>\n",
              "    </tr>\n",
              "    <tr>\n",
              "      <th>2915</th>\n",
              "      <td>0</td>\n",
              "      <td>192</td>\n",
              "      <td>1</td>\n",
              "      <td>1</td>\n",
              "      <td>2.67</td>\n",
              "      <td>2</td>\n",
              "      <td>156.2</td>\n",
              "      <td>77</td>\n",
              "      <td>71.7</td>\n",
              "      <td>10.78</td>\n",
              "      <td>9.9</td>\n",
              "    </tr>\n",
              "    <tr>\n",
              "      <th>2916</th>\n",
              "      <td>0</td>\n",
              "      <td>68</td>\n",
              "      <td>1</td>\n",
              "      <td>0</td>\n",
              "      <td>0.34</td>\n",
              "      <td>3</td>\n",
              "      <td>231.1</td>\n",
              "      <td>57</td>\n",
              "      <td>56.4</td>\n",
              "      <td>7.67</td>\n",
              "      <td>9.6</td>\n",
              "    </tr>\n",
              "    <tr>\n",
              "      <th>2917</th>\n",
              "      <td>0</td>\n",
              "      <td>28</td>\n",
              "      <td>1</td>\n",
              "      <td>0</td>\n",
              "      <td>0.00</td>\n",
              "      <td>2</td>\n",
              "      <td>180.8</td>\n",
              "      <td>109</td>\n",
              "      <td>56.0</td>\n",
              "      <td>14.44</td>\n",
              "      <td>14.1</td>\n",
              "    </tr>\n",
              "    <tr>\n",
              "      <th>2918</th>\n",
              "      <td>0</td>\n",
              "      <td>74</td>\n",
              "      <td>1</td>\n",
              "      <td>1</td>\n",
              "      <td>3.70</td>\n",
              "      <td>0</td>\n",
              "      <td>234.4</td>\n",
              "      <td>113</td>\n",
              "      <td>100.0</td>\n",
              "      <td>13.30</td>\n",
              "      <td>13.7</td>\n",
              "    </tr>\n",
              "  </tbody>\n",
              "</table>\n",
              "<p>2919 rows × 11 columns</p>\n",
              "</div>"
            ],
            "text/plain": [
              "      Churn  AccountWeeks  ContractRenewal  ...  MonthlyCharge  OverageFee  RoamMins\n",
              "0         0           128                1  ...           89.0        9.87      10.0\n",
              "1         0           107                1  ...           82.0        9.78      13.7\n",
              "2         0           137                1  ...           52.0        6.06      12.2\n",
              "3         0           121                1  ...           87.3       17.43       7.5\n",
              "4         0           117                1  ...           63.9       17.58       8.7\n",
              "...     ...           ...              ...  ...            ...         ...       ...\n",
              "2914      0            79                1  ...           40.0        9.49      11.8\n",
              "2915      0           192                1  ...           71.7       10.78       9.9\n",
              "2916      0            68                1  ...           56.4        7.67       9.6\n",
              "2917      0            28                1  ...           56.0       14.44      14.1\n",
              "2918      0            74                1  ...          100.0       13.30      13.7\n",
              "\n",
              "[2919 rows x 11 columns]"
            ]
          },
          "metadata": {
            "tags": []
          }
        }
      ]
    },
    {
      "cell_type": "code",
      "metadata": {
        "id": "MJUx8HzHm0Ps",
        "outputId": "0516d534-1632-477a-e78f-9bd624434109",
        "colab": {
          "base_uri": "https://localhost:8080/",
          "height": 297
        }
      },
      "source": [
        "sns.distplot(new_data[\"AccountWeeks\"])\n",
        "plt.ylabel(\"counts\")"
      ],
      "execution_count": 19,
      "outputs": [
        {
          "output_type": "execute_result",
          "data": {
            "text/plain": [
              "Text(0, 0.5, 'counts')"
            ]
          },
          "metadata": {
            "tags": []
          },
          "execution_count": 19
        },
        {
          "output_type": "display_data",
          "data": {
            "image/png": "[encoded data removed]",
            "text/plain": [
              "<Figure size 432x288 with 1 Axes>"
            ]
          },
          "metadata": {
            "tags": [],
            "needs_background": "light"
          }
        }
      ]
    },
    {
      "cell_type": "code",
      "metadata": {
        "id": "5St4kVVPqLay",
        "outputId": "e9921dec-cf32-45ff-b514-5d094515f9a3",
        "colab": {
          "base_uri": "https://localhost:8080/",
          "height": 297
        }
      },
      "source": [
        "# Example EDA\n",
        "sns.distplot(new_data[\"DayCalls\"])\n",
        "plt.ylabel(\"counts\")"
      ],
      "execution_count": 20,
      "outputs": [
        {
          "output_type": "execute_result",
          "data": {
            "text/plain": [
              "Text(0, 0.5, 'counts')"
            ]
          },
          "metadata": {
            "tags": []
          },
          "execution_count": 20
        },
        {
          "output_type": "display_data",
          "data": {
            "image/png": "[encoded data removed]",
            "text/plain": [
              "<Figure size 432x288 with 1 Axes>"
            ]
          },
          "metadata": {
            "tags": [],
            "needs_background": "light"
          }
        }
      ]
    },
    {
      "cell_type": "code",
      "metadata": {
        "id": "LfrOrfFUp91c"
      },
      "source": [
        ""
      ],
      "execution_count": 20,
      "outputs": []
    },
    {
      "cell_type": "code",
      "metadata": {
        "id": "7v57gd_QmlhM"
      },
      "source": [
        ""
      ],
      "execution_count": 20,
      "outputs": []
    },
    {
      "cell_type": "markdown",
      "metadata": {
        "id": "jiLRZH9dJjeP"
      },
      "source": [
        "# Preprocessing\n",
        "\n",
        "- Are there any duplicated values?\n",
        "- Do we need to do feature scaling?\n",
        "- Do we need to generate new features?\n",
        "- Split Train and Test dataset. (0.7/0.3)"
      ]
    },
    {
      "cell_type": "markdown",
      "metadata": {
        "id": "hjx3hKj3PMpG"
      },
      "source": [
        "1.   **Are there any duplicated values?**"
      ]
    },
    {
      "cell_type": "code",
      "metadata": {
        "id": "dSrndHC4JjeR",
        "outputId": "66ed4af6-f7f0-4885-f4b2-a87d4662e87c",
        "colab": {
          "base_uri": "https://localhost:8080/"
        }
      },
      "source": [
        "# Check for duplicated values\n",
        "new_data.duplicated().sum()"
      ],
      "execution_count": 21,
      "outputs": [
        {
          "output_type": "execute_result",
          "data": {
            "text/plain": [
              "0"
            ]
          },
          "metadata": {
            "tags": []
          },
          "execution_count": 21
        }
      ]
    },
    {
      "cell_type": "markdown",
      "metadata": {
        "id": "tZuOBOLkPaS0"
      },
      "source": [
        "No, there are no Duplicated values in the dataset"
      ]
    },
    {
      "cell_type": "code",
      "metadata": {
        "id": "piMyQ-gLJjeW",
        "outputId": "a276ad40-f109-4507-b31e-67c488b16b51",
        "colab": {
          "base_uri": "https://localhost:8080/"
        }
      },
      "source": [
        "new_data.columns"
      ],
      "execution_count": 22,
      "outputs": [
        {
          "output_type": "execute_result",
          "data": {
            "text/plain": [
              "Index(['Churn', 'AccountWeeks', 'ContractRenewal', 'DataPlan', 'DataUsage',\n",
              "       'CustServCalls', 'DayMins', 'DayCalls', 'MonthlyCharge', 'OverageFee',\n",
              "       'RoamMins'],\n",
              "      dtype='object')"
            ]
          },
          "metadata": {
            "tags": []
          },
          "execution_count": 22
        }
      ]
    },
    {
      "cell_type": "markdown",
      "metadata": {
        "id": "gb9FA_gsP88G"
      },
      "source": [
        "2.   **Do we need to do feature scaling?**\n",
        "\n"
      ]
    },
    {
      "cell_type": "markdown",
      "metadata": {
        "id": "VVVlPlmFQ0Va"
      },
      "source": [
        "Yes, we need feature scaling"
      ]
    },
    {
      "cell_type": "code",
      "metadata": {
        "id": "ZixfZZDNJjeh"
      },
      "source": [
        "from sklearn.preprocessing import StandardScaler"
      ],
      "execution_count": 23,
      "outputs": []
    },
    {
      "cell_type": "code",
      "metadata": {
        "id": "AQ-VuPkXJjel"
      },
      "source": [
        "std = StandardScaler()"
      ],
      "execution_count": 24,
      "outputs": []
    },
    {
      "cell_type": "code",
      "metadata": {
        "id": "zuEOEOs8Jjep"
      },
      "source": [
        "df = std.fit_transform(new_data.drop(columns = [\"Churn\",\"ContractRenewal\",\"DataPlan\"]))"
      ],
      "execution_count": 25,
      "outputs": []
    },
    {
      "cell_type": "code",
      "metadata": {
        "id": "AlEQX4WfJjev",
        "outputId": "1d662e3c-3fab-4750-9313-308dc3481254",
        "colab": {
          "base_uri": "https://localhost:8080/"
        }
      },
      "source": [
        "df"
      ],
      "execution_count": 26,
      "outputs": [
        {
          "output_type": "execute_result",
          "data": {
            "text/plain": [
              "array([[ 0.69196206,  1.51796075, -0.42816428, ...,  2.05929645,\n",
              "        -0.068431  , -0.0941079 ],\n",
              "       [ 0.1624696 ,  2.31721315, -0.42816428, ...,  1.62161451,\n",
              "        -0.10450144,  1.29308134],\n",
              "       [ 0.9188874 , -0.64002073, -1.25585404, ..., -0.25416527,\n",
              "        -1.59541298,  0.73070732],\n",
              "       ...,\n",
              "       [-0.82087355, -0.36827492,  1.22721524, ...,  0.0209491 ,\n",
              "        -0.95015288, -0.2440743 ],\n",
              "       [-1.82943062, -0.64002073,  0.39952548, ..., -0.0040613 ,\n",
              "         1.76314581,  1.44304774],\n",
              "       [-0.66958999,  2.31721315, -1.25585404, ...,  2.74708237,\n",
              "         1.30625356,  1.29308134]])"
            ]
          },
          "metadata": {
            "tags": []
          },
          "execution_count": 26
        }
      ]
    },
    {
      "cell_type": "code",
      "metadata": {
        "id": "T-h2jthYJjez"
      },
      "source": [
        "df1 = pd.DataFrame(columns = ('AccountWeeks','CustServCalls', 'DataUsage', 'DayMins', 'DayCalls', 'MonthlyCharge', 'OverageFee', 'RoamMins'), data =df)"
      ],
      "execution_count": 27,
      "outputs": []
    },
    {
      "cell_type": "code",
      "metadata": {
        "scrolled": true,
        "id": "hevMB7CKJje5",
        "outputId": "1aaf345b-c01a-4531-d777-5a5675a28120",
        "colab": {
          "base_uri": "https://localhost:8080/",
          "height": 189
        }
      },
      "source": [
        "df1.head()"
      ],
      "execution_count": 28,
      "outputs": [
        {
          "output_type": "execute_result",
          "data": {
            "text/html": [
              "<div>\n",
              "<style scoped>\n",
              "    .dataframe tbody tr th:only-of-type {\n",
              "        vertical-align: middle;\n",
              "    }\n",
              "\n",
              "    .dataframe tbody tr th {\n",
              "        vertical-align: top;\n",
              "    }\n",
              "\n",
              "    .dataframe thead th {\n",
              "        text-align: right;\n",
              "    }\n",
              "</style>\n",
              "<table border=\"1\" class=\"dataframe\">\n",
              "  <thead>\n",
              "    <tr style=\"text-align: right;\">\n",
              "      <th></th>\n",
              "      <th>AccountWeeks</th>\n",
              "      <th>CustServCalls</th>\n",
              "      <th>DataUsage</th>\n",
              "      <th>DayMins</th>\n",
              "      <th>DayCalls</th>\n",
              "      <th>MonthlyCharge</th>\n",
              "      <th>OverageFee</th>\n",
              "      <th>RoamMins</th>\n",
              "    </tr>\n",
              "  </thead>\n",
              "  <tbody>\n",
              "    <tr>\n",
              "      <th>0</th>\n",
              "      <td>0.691962</td>\n",
              "      <td>1.517961</td>\n",
              "      <td>-0.428164</td>\n",
              "      <td>1.603349</td>\n",
              "      <td>0.483568</td>\n",
              "      <td>2.059296</td>\n",
              "      <td>-0.068431</td>\n",
              "      <td>-0.094108</td>\n",
              "    </tr>\n",
              "    <tr>\n",
              "      <th>1</th>\n",
              "      <td>0.162470</td>\n",
              "      <td>2.317213</td>\n",
              "      <td>-0.428164</td>\n",
              "      <td>-0.332611</td>\n",
              "      <td>1.147964</td>\n",
              "      <td>1.621615</td>\n",
              "      <td>-0.104501</td>\n",
              "      <td>1.293081</td>\n",
              "    </tr>\n",
              "    <tr>\n",
              "      <th>2</th>\n",
              "      <td>0.918887</td>\n",
              "      <td>-0.640021</td>\n",
              "      <td>-1.255854</td>\n",
              "      <td>1.197452</td>\n",
              "      <td>0.687998</td>\n",
              "      <td>-0.254165</td>\n",
              "      <td>-1.595413</td>\n",
              "      <td>0.730707</td>\n",
              "    </tr>\n",
              "    <tr>\n",
              "      <th>3</th>\n",
              "      <td>0.515465</td>\n",
              "      <td>0.982462</td>\n",
              "      <td>1.227215</td>\n",
              "      <td>0.726088</td>\n",
              "      <td>-0.640795</td>\n",
              "      <td>1.953002</td>\n",
              "      <td>2.961486</td>\n",
              "      <td>-1.031398</td>\n",
              "    </tr>\n",
              "    <tr>\n",
              "      <th>4</th>\n",
              "      <td>0.414609</td>\n",
              "      <td>-0.488163</td>\n",
              "      <td>-0.428164</td>\n",
              "      <td>0.095732</td>\n",
              "      <td>-0.180828</td>\n",
              "      <td>0.489894</td>\n",
              "      <td>3.021603</td>\n",
              "      <td>-0.581499</td>\n",
              "    </tr>\n",
              "  </tbody>\n",
              "</table>\n",
              "</div>"
            ],
            "text/plain": [
              "   AccountWeeks  CustServCalls  DataUsage  ...  MonthlyCharge  OverageFee  RoamMins\n",
              "0      0.691962       1.517961  -0.428164  ...       2.059296   -0.068431 -0.094108\n",
              "1      0.162470       2.317213  -0.428164  ...       1.621615   -0.104501  1.293081\n",
              "2      0.918887      -0.640021  -1.255854  ...      -0.254165   -1.595413  0.730707\n",
              "3      0.515465       0.982462   1.227215  ...       1.953002    2.961486 -1.031398\n",
              "4      0.414609      -0.488163  -0.428164  ...       0.489894    3.021603 -0.581499\n",
              "\n",
              "[5 rows x 8 columns]"
            ]
          },
          "metadata": {
            "tags": []
          },
          "execution_count": 28
        }
      ]
    },
    {
      "cell_type": "code",
      "metadata": {
        "id": "PNtM7YNmJje-"
      },
      "source": [
        "df1[\"Churn\"] = new_data[\"Churn\"]"
      ],
      "execution_count": 29,
      "outputs": []
    },
    {
      "cell_type": "code",
      "metadata": {
        "id": "uNngwGreJjfC"
      },
      "source": [
        "df1[\"ContractRenewal\"] = new_data[\"ContractRenewal\"]"
      ],
      "execution_count": 30,
      "outputs": []
    },
    {
      "cell_type": "code",
      "metadata": {
        "id": "l1wHzSAfJjfF"
      },
      "source": [
        "df1[\"DataPlan\"] = new_data[\"DataPlan\"]"
      ],
      "execution_count": 31,
      "outputs": []
    },
    {
      "cell_type": "code",
      "metadata": {
        "id": "c1jLlMOoJjfM",
        "outputId": "b3fbce91-cd46-449c-c664-99d203478e6c",
        "colab": {
          "base_uri": "https://localhost:8080/",
          "height": 189
        }
      },
      "source": [
        "df1.head()"
      ],
      "execution_count": 32,
      "outputs": [
        {
          "output_type": "execute_result",
          "data": {
            "text/html": [
              "<div>\n",
              "<style scoped>\n",
              "    .dataframe tbody tr th:only-of-type {\n",
              "        vertical-align: middle;\n",
              "    }\n",
              "\n",
              "    .dataframe tbody tr th {\n",
              "        vertical-align: top;\n",
              "    }\n",
              "\n",
              "    .dataframe thead th {\n",
              "        text-align: right;\n",
              "    }\n",
              "</style>\n",
              "<table border=\"1\" class=\"dataframe\">\n",
              "  <thead>\n",
              "    <tr style=\"text-align: right;\">\n",
              "      <th></th>\n",
              "      <th>AccountWeeks</th>\n",
              "      <th>CustServCalls</th>\n",
              "      <th>DataUsage</th>\n",
              "      <th>DayMins</th>\n",
              "      <th>DayCalls</th>\n",
              "      <th>MonthlyCharge</th>\n",
              "      <th>OverageFee</th>\n",
              "      <th>RoamMins</th>\n",
              "      <th>Churn</th>\n",
              "      <th>ContractRenewal</th>\n",
              "      <th>DataPlan</th>\n",
              "    </tr>\n",
              "  </thead>\n",
              "  <tbody>\n",
              "    <tr>\n",
              "      <th>0</th>\n",
              "      <td>0.691962</td>\n",
              "      <td>1.517961</td>\n",
              "      <td>-0.428164</td>\n",
              "      <td>1.603349</td>\n",
              "      <td>0.483568</td>\n",
              "      <td>2.059296</td>\n",
              "      <td>-0.068431</td>\n",
              "      <td>-0.094108</td>\n",
              "      <td>0</td>\n",
              "      <td>1</td>\n",
              "      <td>1</td>\n",
              "    </tr>\n",
              "    <tr>\n",
              "      <th>1</th>\n",
              "      <td>0.162470</td>\n",
              "      <td>2.317213</td>\n",
              "      <td>-0.428164</td>\n",
              "      <td>-0.332611</td>\n",
              "      <td>1.147964</td>\n",
              "      <td>1.621615</td>\n",
              "      <td>-0.104501</td>\n",
              "      <td>1.293081</td>\n",
              "      <td>0</td>\n",
              "      <td>1</td>\n",
              "      <td>1</td>\n",
              "    </tr>\n",
              "    <tr>\n",
              "      <th>2</th>\n",
              "      <td>0.918887</td>\n",
              "      <td>-0.640021</td>\n",
              "      <td>-1.255854</td>\n",
              "      <td>1.197452</td>\n",
              "      <td>0.687998</td>\n",
              "      <td>-0.254165</td>\n",
              "      <td>-1.595413</td>\n",
              "      <td>0.730707</td>\n",
              "      <td>0</td>\n",
              "      <td>1</td>\n",
              "      <td>0</td>\n",
              "    </tr>\n",
              "    <tr>\n",
              "      <th>3</th>\n",
              "      <td>0.515465</td>\n",
              "      <td>0.982462</td>\n",
              "      <td>1.227215</td>\n",
              "      <td>0.726088</td>\n",
              "      <td>-0.640795</td>\n",
              "      <td>1.953002</td>\n",
              "      <td>2.961486</td>\n",
              "      <td>-1.031398</td>\n",
              "      <td>0</td>\n",
              "      <td>1</td>\n",
              "      <td>1</td>\n",
              "    </tr>\n",
              "    <tr>\n",
              "      <th>4</th>\n",
              "      <td>0.414609</td>\n",
              "      <td>-0.488163</td>\n",
              "      <td>-0.428164</td>\n",
              "      <td>0.095732</td>\n",
              "      <td>-0.180828</td>\n",
              "      <td>0.489894</td>\n",
              "      <td>3.021603</td>\n",
              "      <td>-0.581499</td>\n",
              "      <td>0</td>\n",
              "      <td>1</td>\n",
              "      <td>0</td>\n",
              "    </tr>\n",
              "  </tbody>\n",
              "</table>\n",
              "</div>"
            ],
            "text/plain": [
              "   AccountWeeks  CustServCalls  DataUsage  ...  Churn  ContractRenewal  DataPlan\n",
              "0      0.691962       1.517961  -0.428164  ...      0                1         1\n",
              "1      0.162470       2.317213  -0.428164  ...      0                1         1\n",
              "2      0.918887      -0.640021  -1.255854  ...      0                1         0\n",
              "3      0.515465       0.982462   1.227215  ...      0                1         1\n",
              "4      0.414609      -0.488163  -0.428164  ...      0                1         0\n",
              "\n",
              "[5 rows x 11 columns]"
            ]
          },
          "metadata": {
            "tags": []
          },
          "execution_count": 32
        }
      ]
    },
    {
      "cell_type": "markdown",
      "metadata": {
        "id": "nngmlSqLQUei"
      },
      "source": [
        "3. **Do we need to generate new features?**\n",
        "\n"
      ]
    },
    {
      "cell_type": "markdown",
      "metadata": {
        "id": "VShVZyC9QsEb"
      },
      "source": [
        "No, we do not need to generate new features"
      ]
    },
    {
      "cell_type": "markdown",
      "metadata": {
        "id": "fh-IfUYhRHXA"
      },
      "source": [
        "4.   **Split Train and Test dataset. (0.7/0.3)**\n",
        "\n"
      ]
    },
    {
      "cell_type": "markdown",
      "metadata": {
        "id": "A74cNqEZRQAe"
      },
      "source": [
        "Splitting the dataset into 70% Train and 30% Test"
      ]
    },
    {
      "cell_type": "code",
      "metadata": {
        "id": "DOaQ73j0JjfU"
      },
      "source": [
        "from sklearn.model_selection import train_test_split"
      ],
      "execution_count": 33,
      "outputs": []
    },
    {
      "cell_type": "code",
      "metadata": {
        "id": "DQ_grw2nJjfY"
      },
      "source": [
        "X_train, X_test, y_train, y_test = train_test_split(df1.drop('Churn', axis=1), df1['Churn'], test_size=0.3, random_state=42)\n"
      ],
      "execution_count": 34,
      "outputs": []
    },
    {
      "cell_type": "code",
      "metadata": {
        "id": "S2p16Q6PJjfb",
        "outputId": "4bd1d51d-b022-4fc7-92f4-003371a4cc6d",
        "colab": {
          "base_uri": "https://localhost:8080/"
        }
      },
      "source": [
        "X_test.shape"
      ],
      "execution_count": 35,
      "outputs": [
        {
          "output_type": "execute_result",
          "data": {
            "text/plain": [
              "(876, 10)"
            ]
          },
          "metadata": {
            "tags": []
          },
          "execution_count": 35
        }
      ]
    },
    {
      "cell_type": "code",
      "metadata": {
        "id": "-dz2PecmJjfg",
        "outputId": "23b703f3-066e-4916-9197-967c4374f799",
        "colab": {
          "base_uri": "https://localhost:8080/"
        }
      },
      "source": [
        "y_train.shape"
      ],
      "execution_count": 36,
      "outputs": [
        {
          "output_type": "execute_result",
          "data": {
            "text/plain": [
              "(2043,)"
            ]
          },
          "metadata": {
            "tags": []
          },
          "execution_count": 36
        }
      ]
    },
    {
      "cell_type": "code",
      "metadata": {
        "id": "hpLgUCldJjfm"
      },
      "source": [
        ""
      ],
      "execution_count": 36,
      "outputs": []
    },
    {
      "cell_type": "markdown",
      "metadata": {
        "id": "6G_Mo8DMJjfr"
      },
      "source": [
        "# ML Application\n",
        "\n",
        "- Define models.\n",
        "- Fit models.\n",
        "- Evaluate models for both train and test dataset.\n",
        "- Generate Confusion Matrix and scores of Accuracy, Recall, Precision and F1-Score.\n",
        "- Analyse occurrence of overfitting and underfitting. If there is any of them, try to overcome it within a different section."
      ]
    },
    {
      "cell_type": "markdown",
      "metadata": {
        "id": "3OYk-67lJjfs"
      },
      "source": [
        "**What is machine Learning Model?**\n",
        "\n",
        "A machine learning model is a file that has been trained to recognize certain types of patterns. You train a model over a set of data, providing it an algorithm that it can use to reason over and learn from those data.\n"
      ]
    },
    {
      "cell_type": "code",
      "metadata": {
        "id": "5AKDJhCcJjft"
      },
      "source": [
        "from concurrent.futures import ThreadPoolExecutor\n",
        "from sklearn.metrics import classification_report, confusion_matrix\n",
        "\n",
        "def model_testing(md):\n",
        "    with ThreadPoolExecutor(max_workers=2) as executor:\n",
        "        executor.submit(md.fit, X_train, y_train)\n",
        "    print(\"Training Accuracy: \", md.score(X_train, y_train), '\\n')\n",
        "    print(\"Testing Accuracy: \", md.score(X_test, y_test), '\\n')\n",
        "    print(classification_report(y_test, md.predict(X_test)))\n",
        "    return md.predict(data.drop(columns=['Churn']))\n"
      ],
      "execution_count": 37,
      "outputs": []
    },
    {
      "cell_type": "markdown",
      "metadata": {
        "id": "4t_VLWHyyGAY"
      },
      "source": [
        "# Machine Learning"
      ]
    },
    {
      "cell_type": "markdown",
      "metadata": {
        "id": "61u1TbBQJjfy"
      },
      "source": [
        "### Using Logistic Regression:"
      ]
    },
    {
      "cell_type": "code",
      "metadata": {
        "id": "FbHwCf10Jjfy"
      },
      "source": [
        "from sklearn.linear_model import LogisticRegression"
      ],
      "execution_count": 38,
      "outputs": []
    },
    {
      "cell_type": "code",
      "metadata": {
        "id": "HggFjp4ZJjf2"
      },
      "source": [
        "log = LogisticRegression(solver=\"liblinear\", C=10)"
      ],
      "execution_count": 39,
      "outputs": []
    },
    {
      "cell_type": "code",
      "metadata": {
        "id": "g35bxVr7Jjf6",
        "outputId": "ed833808-8dcb-4b91-9121-78f1ae953f57",
        "colab": {
          "base_uri": "https://localhost:8080/"
        }
      },
      "source": [
        "model_testing(log)"
      ],
      "execution_count": 40,
      "outputs": [
        {
          "output_type": "stream",
          "text": [
            "Training Accuracy:  0.8986784140969163 \n",
            "\n",
            "Testing Accuracy:  0.8949771689497716 \n",
            "\n",
            "              precision    recall  f1-score   support\n",
            "\n",
            "           0       0.90      0.99      0.94       778\n",
            "           1       0.69      0.11      0.19        98\n",
            "\n",
            "    accuracy                           0.89       876\n",
            "   macro avg       0.79      0.55      0.57       876\n",
            "weighted avg       0.88      0.89      0.86       876\n",
            "\n"
          ],
          "name": "stdout"
        },
        {
          "output_type": "execute_result",
          "data": {
            "text/plain": [
              "array([0, 0, 0, ..., 0, 0, 0])"
            ]
          },
          "metadata": {
            "tags": []
          },
          "execution_count": 40
        }
      ]
    },
    {
      "cell_type": "code",
      "metadata": {
        "id": "CLiWDWlBVGMx",
        "outputId": "e2909f4b-cfc6-48b1-aebb-4a032d8e28b6",
        "colab": {
          "base_uri": "https://localhost:8080/"
        }
      },
      "source": [
        "log.intercept_"
      ],
      "execution_count": 41,
      "outputs": [
        {
          "output_type": "execute_result",
          "data": {
            "text/plain": [
              "array([-1.32537244])"
            ]
          },
          "metadata": {
            "tags": []
          },
          "execution_count": 41
        }
      ]
    },
    {
      "cell_type": "code",
      "metadata": {
        "id": "Yoga4DePVGTC",
        "outputId": "d798dd08-14ff-4dc9-8c64-49eefdc74b48",
        "colab": {
          "base_uri": "https://localhost:8080/"
        }
      },
      "source": [
        "log.coef_"
      ],
      "execution_count": 42,
      "outputs": [
        {
          "output_type": "execute_result",
          "data": {
            "text/plain": [
              "array([[-0.00901184, -0.05273569,  0.63092688,  1.25631552,  0.15499808,\n",
              "        -0.61028224,  0.54711596,  0.14088729, -1.32537244, -0.34774713]])"
            ]
          },
          "metadata": {
            "tags": []
          },
          "execution_count": 42
        }
      ]
    },
    {
      "cell_type": "code",
      "metadata": {
        "id": "gJop0Qg4VGYY",
        "outputId": "6ae8b10a-df68-48bd-f041-0a1da90ea2bf",
        "colab": {
          "base_uri": "https://localhost:8080/"
        }
      },
      "source": [
        "log.predict_proba(X_train)"
      ],
      "execution_count": 43,
      "outputs": [
        {
          "output_type": "execute_result",
          "data": {
            "text/plain": [
              "array([[0.81491176, 0.18508824],\n",
              "       [0.89457612, 0.10542388],\n",
              "       [0.87454106, 0.12545894],\n",
              "       ...,\n",
              "       [0.98249374, 0.01750626],\n",
              "       [0.98067899, 0.01932101],\n",
              "       [0.61991322, 0.38008678]])"
            ]
          },
          "metadata": {
            "tags": []
          },
          "execution_count": 43
        }
      ]
    },
    {
      "cell_type": "code",
      "metadata": {
        "id": "qvAuo-qHVOnh",
        "outputId": "eade4eac-5d82-4d39-f328-7834fedc0a1a",
        "colab": {
          "base_uri": "https://localhost:8080/"
        }
      },
      "source": [
        "confusion_matrix(y_train, log.predict(X_train))"
      ],
      "execution_count": 44,
      "outputs": [
        {
          "output_type": "execute_result",
          "data": {
            "text/plain": [
              "array([[1806,   14],\n",
              "       [ 193,   30]])"
            ]
          },
          "metadata": {
            "tags": []
          },
          "execution_count": 44
        }
      ]
    },
    {
      "cell_type": "code",
      "metadata": {
        "id": "0xxAPWvRVOs5",
        "outputId": "dfb3999f-bbd4-4394-ce08-da80bd742b5d",
        "colab": {
          "base_uri": "https://localhost:8080/",
          "height": 502
        }
      },
      "source": [
        "c_matrix = confusion_matrix(y_train, log.predict(X_train))\n",
        "plt.figure(figsize=(12, 8))\n",
        "sns.heatmap(c_matrix, annot=True)"
      ],
      "execution_count": 45,
      "outputs": [
        {
          "output_type": "execute_result",
          "data": {
            "text/plain": [
              "<matplotlib.axes._subplots.AxesSubplot at 0x7f23090920f0>"
            ]
          },
          "metadata": {
            "tags": []
          },
          "execution_count": 45
        },
        {
          "output_type": "display_data",
          "data": {
            "image/png": "[encoded data removed]",
            "text/plain": [
              "<Figure size 864x576 with 2 Axes>"
            ]
          },
          "metadata": {
            "tags": [],
            "needs_background": "light"
          }
        }
      ]
    },
    {
      "cell_type": "code",
      "metadata": {
        "id": "2wORPABkJjgA"
      },
      "source": [
        "from sklearn.model_selection import GridSearchCV"
      ],
      "execution_count": 46,
      "outputs": []
    },
    {
      "cell_type": "code",
      "metadata": {
        "id": "THHdsKEdJjgE"
      },
      "source": [
        "gsc = GridSearchCV(estimator = log, param_grid  = {\"C\": [0.1,0.01,0.001,10,1]}, cv= 5)"
      ],
      "execution_count": 47,
      "outputs": []
    },
    {
      "cell_type": "code",
      "metadata": {
        "id": "f7yiQ_zRJjgJ",
        "outputId": "dc2dc09b-70ef-43ef-81f7-7d826bc267f3",
        "colab": {
          "base_uri": "https://localhost:8080/"
        }
      },
      "source": [
        "gsc.fit(X_train, y_train)"
      ],
      "execution_count": 48,
      "outputs": [
        {
          "output_type": "execute_result",
          "data": {
            "text/plain": [
              "GridSearchCV(cv=5, error_score=nan,\n",
              "             estimator=LogisticRegression(C=10, class_weight=None, dual=False,\n",
              "                                          fit_intercept=True,\n",
              "                                          intercept_scaling=1, l1_ratio=None,\n",
              "                                          max_iter=100, multi_class='auto',\n",
              "                                          n_jobs=None, penalty='l2',\n",
              "                                          random_state=None, solver='liblinear',\n",
              "                                          tol=0.0001, verbose=0,\n",
              "                                          warm_start=False),\n",
              "             iid='deprecated', n_jobs=None,\n",
              "             param_grid={'C': [0.1, 0.01, 0.001, 10, 1]},\n",
              "             pre_dispatch='2*n_jobs', refit=True, return_train_score=False,\n",
              "             scoring=None, verbose=0)"
            ]
          },
          "metadata": {
            "tags": []
          },
          "execution_count": 48
        }
      ]
    },
    {
      "cell_type": "code",
      "metadata": {
        "id": "E9bs-VtXJjgN",
        "outputId": "299b19ce-0e69-41e3-f63e-06e136ca9dfc",
        "colab": {
          "base_uri": "https://localhost:8080/"
        }
      },
      "source": [
        "gsc.best_params_"
      ],
      "execution_count": 49,
      "outputs": [
        {
          "output_type": "execute_result",
          "data": {
            "text/plain": [
              "{'C': 10}"
            ]
          },
          "metadata": {
            "tags": []
          },
          "execution_count": 49
        }
      ]
    },
    {
      "cell_type": "code",
      "metadata": {
        "id": "C1azR2AIJjgR",
        "outputId": "d06d964e-8700-4879-85cb-37f65b9b01cd",
        "colab": {
          "base_uri": "https://localhost:8080/"
        }
      },
      "source": [
        "gsc.best_score_"
      ],
      "execution_count": 50,
      "outputs": [
        {
          "output_type": "execute_result",
          "data": {
            "text/plain": [
              "0.8986828227623567"
            ]
          },
          "metadata": {
            "tags": []
          },
          "execution_count": 50
        }
      ]
    },
    {
      "cell_type": "code",
      "metadata": {
        "id": "vir4OErRJjgW",
        "outputId": "64fd068f-c080-416e-96b7-3a0d57094d62",
        "colab": {
          "base_uri": "https://localhost:8080/"
        }
      },
      "source": [
        "gsc.score(X_test, y_test)"
      ],
      "execution_count": 51,
      "outputs": [
        {
          "output_type": "execute_result",
          "data": {
            "text/plain": [
              "0.8949771689497716"
            ]
          },
          "metadata": {
            "tags": []
          },
          "execution_count": 51
        }
      ]
    },
    {
      "cell_type": "markdown",
      "metadata": {
        "id": "3MTfuiErscTz"
      },
      "source": [
        "## Using Decision Trees\n"
      ]
    },
    {
      "cell_type": "code",
      "metadata": {
        "id": "XEKXnb8bsbKB",
        "outputId": "9ede0a71-ede1-414a-d5d6-85cdca907092",
        "colab": {
          "base_uri": "https://localhost:8080/"
        }
      },
      "source": [
        "from sklearn.tree import DecisionTreeClassifier\n",
        "\n",
        "dtc = DecisionTreeClassifier(max_depth=4 , random_state=42)\n",
        "dtc.fit(X_train,y_train)\n",
        "print(\"Accuracy of train:\",dtc.score(X_train, y_train))\n",
        "print(\"Accuracy of test:\",dtc.score(X_test,y_test))"
      ],
      "execution_count": 52,
      "outputs": [
        {
          "output_type": "stream",
          "text": [
            "Accuracy of train: 0.947136563876652\n",
            "Accuracy of test: 0.9337899543378996\n"
          ],
          "name": "stdout"
        }
      ]
    },
    {
      "cell_type": "code",
      "metadata": {
        "id": "7k83gw94sbmK",
        "outputId": "8b45d1e7-e144-4664-c1c0-38ff7d230b48",
        "colab": {
          "base_uri": "https://localhost:8080/"
        }
      },
      "source": [
        "dtc_pred = dtc.predict(X_test)\n",
        "print(classification_report(y_test,dtc_pred))"
      ],
      "execution_count": 53,
      "outputs": [
        {
          "output_type": "stream",
          "text": [
            "              precision    recall  f1-score   support\n",
            "\n",
            "           0       0.96      0.96      0.96       778\n",
            "           1       0.71      0.69      0.70        98\n",
            "\n",
            "    accuracy                           0.93       876\n",
            "   macro avg       0.83      0.83      0.83       876\n",
            "weighted avg       0.93      0.93      0.93       876\n",
            "\n"
          ],
          "name": "stdout"
        }
      ]
    },
    {
      "cell_type": "code",
      "metadata": {
        "id": "F5NONP0LsbkN",
        "outputId": "aa43cf40-8824-43ab-f6bf-22e9fa9c497e",
        "colab": {
          "base_uri": "https://localhost:8080/"
        }
      },
      "source": [
        "from sklearn.metrics import precision_score, recall_score, accuracy_score, classification_report, f1_score\n",
        "\n",
        "\n",
        "print(\"Precision = {}\".format(precision_score(y_test, dtc_pred, average='macro')))\n",
        "print(\"Recall = {}\".format(recall_score(y_test, dtc_pred, average='macro')))\n",
        "print(\"Accuracy = {}\".format(accuracy_score(y_test, dtc_pred)))\n",
        "print(\"F1 Score = {}\".format(f1_score(y_test, dtc_pred,average='macro')))"
      ],
      "execution_count": 54,
      "outputs": [
        {
          "output_type": "stream",
          "text": [
            "Precision = 0.8349358974358975\n",
            "Recall = 0.8289439168983789\n",
            "Accuracy = 0.9337899543378996\n",
            "F1 Score = 0.8319018567288223\n"
          ],
          "name": "stdout"
        }
      ]
    },
    {
      "cell_type": "code",
      "metadata": {
        "id": "aMh4Gsdosbin",
        "outputId": "062b875f-0dde-4aac-d3ad-2f6c523d30c1",
        "colab": {
          "base_uri": "https://localhost:8080/"
        }
      },
      "source": [
        "dtc.predict_proba(X_train)"
      ],
      "execution_count": 55,
      "outputs": [
        {
          "output_type": "execute_result",
          "data": {
            "text/plain": [
              "array([[0.96528555, 0.03471445],\n",
              "       [0.96528555, 0.03471445],\n",
              "       [1.        , 0.        ],\n",
              "       ...,\n",
              "       [0.96528555, 0.03471445],\n",
              "       [0.96528555, 0.03471445],\n",
              "       [1.        , 0.        ]])"
            ]
          },
          "metadata": {
            "tags": []
          },
          "execution_count": 55
        }
      ]
    },
    {
      "cell_type": "code",
      "metadata": {
        "id": "o1d354i7sbZr",
        "outputId": "615b0a3e-5287-454c-e098-2948244e6b8b",
        "colab": {
          "base_uri": "https://localhost:8080/"
        }
      },
      "source": [
        "confusion_matrix(y_train, dtc.predict(X_train))"
      ],
      "execution_count": 56,
      "outputs": [
        {
          "output_type": "execute_result",
          "data": {
            "text/plain": [
              "array([[1769,   51],\n",
              "       [  57,  166]])"
            ]
          },
          "metadata": {
            "tags": []
          },
          "execution_count": 56
        }
      ]
    },
    {
      "cell_type": "code",
      "metadata": {
        "id": "S56gRrg9sbWJ",
        "outputId": "75b9a296-7d1d-424c-8609-7a6a12184b4f",
        "colab": {
          "base_uri": "https://localhost:8080/",
          "height": 501
        }
      },
      "source": [
        "c_matrix = confusion_matrix(y_train, dtc.predict(X_train))\n",
        "plt.figure(figsize=(12, 8))\n",
        "sns.heatmap(c_matrix, annot=True)"
      ],
      "execution_count": 57,
      "outputs": [
        {
          "output_type": "execute_result",
          "data": {
            "text/plain": [
              "<matplotlib.axes._subplots.AxesSubplot at 0x7f230461f550>"
            ]
          },
          "metadata": {
            "tags": []
          },
          "execution_count": 57
        },
        {
          "output_type": "display_data",
          "data": {
            "image/png": "[encoded data removed]",
            "text/plain": [
              "<Figure size 864x576 with 2 Axes>"
            ]
          },
          "metadata": {
            "tags": [],
            "needs_background": "light"
          }
        }
      ]
    },
    {
      "cell_type": "code",
      "metadata": {
        "id": "TFCjYdC6sbTh"
      },
      "source": [
        ""
      ],
      "execution_count": 57,
      "outputs": []
    },
    {
      "cell_type": "code",
      "metadata": {
        "id": "kZuh2leXsbRZ"
      },
      "source": [
        ""
      ],
      "execution_count": 57,
      "outputs": []
    },
    {
      "cell_type": "code",
      "metadata": {
        "id": "b1qX7--VsbFt"
      },
      "source": [
        ""
      ],
      "execution_count": 57,
      "outputs": []
    },
    {
      "cell_type": "markdown",
      "metadata": {
        "id": "8vtA0WrQJjga"
      },
      "source": [
        "### Using Support Vector:"
      ]
    },
    {
      "cell_type": "code",
      "metadata": {
        "id": "j9BgTorCJjgb"
      },
      "source": [
        "from sklearn.svm import SVC"
      ],
      "execution_count": 58,
      "outputs": []
    },
    {
      "cell_type": "code",
      "metadata": {
        "id": "UlTuUU6aJjge"
      },
      "source": [
        "svc = SVC(C=10)"
      ],
      "execution_count": 59,
      "outputs": []
    },
    {
      "cell_type": "code",
      "metadata": {
        "id": "sGuUAUfnJjgj",
        "outputId": "945d294f-46d6-4752-a656-0938578a6828",
        "colab": {
          "base_uri": "https://localhost:8080/"
        }
      },
      "source": [
        "model_testing(svc)"
      ],
      "execution_count": 60,
      "outputs": [
        {
          "output_type": "stream",
          "text": [
            "Training Accuracy:  0.9627998042094958 \n",
            "\n",
            "Testing Accuracy:  0.9531963470319634 \n",
            "\n",
            "              precision    recall  f1-score   support\n",
            "\n",
            "           0       0.96      0.99      0.97       778\n",
            "           1       0.89      0.66      0.76        98\n",
            "\n",
            "    accuracy                           0.95       876\n",
            "   macro avg       0.92      0.83      0.87       876\n",
            "weighted avg       0.95      0.95      0.95       876\n",
            "\n"
          ],
          "name": "stdout"
        },
        {
          "output_type": "execute_result",
          "data": {
            "text/plain": [
              "array([0, 0, 0, ..., 0, 0, 0])"
            ]
          },
          "metadata": {
            "tags": []
          },
          "execution_count": 60
        }
      ]
    },
    {
      "cell_type": "markdown",
      "metadata": {
        "id": "Ofu_BPA1Jjgq"
      },
      "source": [
        "### Using Random Forest"
      ]
    },
    {
      "cell_type": "code",
      "metadata": {
        "id": "dI8i3-lIJjgr"
      },
      "source": [
        "from sklearn.ensemble import RandomForestClassifier"
      ],
      "execution_count": 61,
      "outputs": []
    },
    {
      "cell_type": "code",
      "metadata": {
        "id": "TwobHmdVJjgv"
      },
      "source": [
        "rfc = RandomForestClassifier(n_estimators=200)"
      ],
      "execution_count": 62,
      "outputs": []
    },
    {
      "cell_type": "code",
      "metadata": {
        "id": "zBXTfg3XJjg0",
        "outputId": "4f86cad9-e128-4b1e-e9ca-96f5ea7b4bcc",
        "colab": {
          "base_uri": "https://localhost:8080/"
        }
      },
      "source": [
        "model_testing(rfc)"
      ],
      "execution_count": 63,
      "outputs": [
        {
          "output_type": "stream",
          "text": [
            "Training Accuracy:  1.0 \n",
            "\n",
            "Testing Accuracy:  0.9509132420091324 \n",
            "\n",
            "              precision    recall  f1-score   support\n",
            "\n",
            "           0       0.96      0.99      0.97       778\n",
            "           1       0.87      0.66      0.75        98\n",
            "\n",
            "    accuracy                           0.95       876\n",
            "   macro avg       0.91      0.83      0.86       876\n",
            "weighted avg       0.95      0.95      0.95       876\n",
            "\n"
          ],
          "name": "stdout"
        },
        {
          "output_type": "execute_result",
          "data": {
            "text/plain": [
              "array([0, 0, 0, ..., 0, 0, 0])"
            ]
          },
          "metadata": {
            "tags": []
          },
          "execution_count": 63
        }
      ]
    },
    {
      "cell_type": "code",
      "metadata": {
        "id": "hMAU9PdLXyMn",
        "outputId": "56efbb2f-ce10-4a89-f683-10a631ee9d56",
        "colab": {
          "base_uri": "https://localhost:8080/"
        }
      },
      "source": [
        "rfc.predict_proba(X_train)"
      ],
      "execution_count": 64,
      "outputs": [
        {
          "output_type": "execute_result",
          "data": {
            "text/plain": [
              "array([[0.99 , 0.01 ],\n",
              "       [1.   , 0.   ],\n",
              "       [0.95 , 0.05 ],\n",
              "       ...,\n",
              "       [0.99 , 0.01 ],\n",
              "       [0.985, 0.015],\n",
              "       [0.67 , 0.33 ]])"
            ]
          },
          "metadata": {
            "tags": []
          },
          "execution_count": 64
        }
      ]
    },
    {
      "cell_type": "code",
      "metadata": {
        "id": "YXBQGkICXyJb",
        "outputId": "1cacdd99-f9c8-4763-ae27-c24cfc044255",
        "colab": {
          "base_uri": "https://localhost:8080/"
        }
      },
      "source": [
        "confusion_matrix(y_train, rfc.predict(X_train))"
      ],
      "execution_count": 65,
      "outputs": [
        {
          "output_type": "execute_result",
          "data": {
            "text/plain": [
              "array([[1820,    0],\n",
              "       [   0,  223]])"
            ]
          },
          "metadata": {
            "tags": []
          },
          "execution_count": 65
        }
      ]
    },
    {
      "cell_type": "code",
      "metadata": {
        "id": "GleIrlwmYhMH",
        "outputId": "d97af94c-8d45-4fcc-e80d-3d9986baecc0",
        "colab": {
          "base_uri": "https://localhost:8080/",
          "height": 501
        }
      },
      "source": [
        "con_matrix = confusion_matrix(y_train, rfc.predict(X_train))\n",
        "plt.figure(figsize=(12, 8))\n",
        "sns.heatmap(con_matrix, annot=True)"
      ],
      "execution_count": 66,
      "outputs": [
        {
          "output_type": "execute_result",
          "data": {
            "text/plain": [
              "<matplotlib.axes._subplots.AxesSubplot at 0x7f2304312c18>"
            ]
          },
          "metadata": {
            "tags": []
          },
          "execution_count": 66
        },
        {
          "output_type": "display_data",
          "data": {
            "image/png": "[encoded data removed]",
            "text/plain": [
              "<Figure size 864x576 with 2 Axes>"
            ]
          },
          "metadata": {
            "tags": [],
            "needs_background": "light"
          }
        }
      ]
    },
    {
      "cell_type": "markdown",
      "metadata": {
        "id": "3w3UUekvJjg3"
      },
      "source": [
        "### Using KNearest Classifier"
      ]
    },
    {
      "cell_type": "code",
      "metadata": {
        "id": "xGFJdx17Jjg4"
      },
      "source": [
        "from sklearn.neighbors import KNeighborsClassifier"
      ],
      "execution_count": 67,
      "outputs": []
    },
    {
      "cell_type": "code",
      "metadata": {
        "id": "ik1mR-S3Jjg7"
      },
      "source": [
        "knn = KNeighborsClassifier()"
      ],
      "execution_count": 68,
      "outputs": []
    },
    {
      "cell_type": "code",
      "metadata": {
        "id": "GhaaTau5JjhD",
        "outputId": "1d32da79-6504-406f-d709-6bc3bfb469d0",
        "colab": {
          "base_uri": "https://localhost:8080/"
        }
      },
      "source": [
        "model_testing(knn)"
      ],
      "execution_count": 69,
      "outputs": [
        {
          "output_type": "stream",
          "text": [
            "Training Accuracy:  0.9373470386686246 \n",
            "\n",
            "Testing Accuracy:  0.930365296803653 \n",
            "\n",
            "              precision    recall  f1-score   support\n",
            "\n",
            "           0       0.93      0.99      0.96       778\n",
            "           1       0.88      0.44      0.59        98\n",
            "\n",
            "    accuracy                           0.93       876\n",
            "   macro avg       0.91      0.72      0.77       876\n",
            "weighted avg       0.93      0.93      0.92       876\n",
            "\n"
          ],
          "name": "stdout"
        },
        {
          "output_type": "execute_result",
          "data": {
            "text/plain": [
              "array([0, 0, 0, ..., 0, 0, 0])"
            ]
          },
          "metadata": {
            "tags": []
          },
          "execution_count": 69
        }
      ]
    },
    {
      "cell_type": "code",
      "metadata": {
        "id": "0yUjjlGeylYf",
        "outputId": "3e224d98-04fd-4aef-f11a-86f6fe2c2e07",
        "colab": {
          "base_uri": "https://localhost:8080/"
        }
      },
      "source": [
        "knn.predict_proba(X_train)"
      ],
      "execution_count": 76,
      "outputs": [
        {
          "output_type": "execute_result",
          "data": {
            "text/plain": [
              "array([[1. , 0. ],\n",
              "       [1. , 0. ],\n",
              "       [1. , 0. ],\n",
              "       ...,\n",
              "       [1. , 0. ],\n",
              "       [1. , 0. ],\n",
              "       [0.6, 0.4]])"
            ]
          },
          "metadata": {
            "tags": []
          },
          "execution_count": 76
        }
      ]
    },
    {
      "cell_type": "code",
      "metadata": {
        "id": "6z3Le2ZtyleD",
        "outputId": "46c9f958-a2b4-44a1-9b3c-e0b65f56a7a7",
        "colab": {
          "base_uri": "https://localhost:8080/"
        }
      },
      "source": [
        "confusion_matrix(y_train, knn.predict(X_train))"
      ],
      "execution_count": 77,
      "outputs": [
        {
          "output_type": "execute_result",
          "data": {
            "text/plain": [
              "array([[1810,   10],\n",
              "       [ 118,  105]])"
            ]
          },
          "metadata": {
            "tags": []
          },
          "execution_count": 77
        }
      ]
    },
    {
      "cell_type": "code",
      "metadata": {
        "id": "9hWFFWC7yljH",
        "outputId": "074eddec-f39c-43bd-832b-893d950a099f",
        "colab": {
          "base_uri": "https://localhost:8080/",
          "height": 502
        }
      },
      "source": [
        "con_matrix = confusion_matrix(y_train, knn.predict(X_train))\n",
        "plt.figure(figsize=(12, 8))\n",
        "sns.heatmap(con_matrix, annot=True)"
      ],
      "execution_count": 78,
      "outputs": [
        {
          "output_type": "execute_result",
          "data": {
            "text/plain": [
              "<matplotlib.axes._subplots.AxesSubplot at 0x7f2304166908>"
            ]
          },
          "metadata": {
            "tags": []
          },
          "execution_count": 78
        },
        {
          "output_type": "display_data",
          "data": {
            "image/png": "[encoded data removed]",
            "text/plain": [
              "<Figure size 864x576 with 2 Axes>"
            ]
          },
          "metadata": {
            "tags": [],
            "needs_background": "light"
          }
        }
      ]
    },
    {
      "cell_type": "markdown",
      "metadata": {
        "id": "AEFpJV7FvOLm"
      },
      "source": [
        "## Using Gradient Boosting"
      ]
    },
    {
      "cell_type": "code",
      "metadata": {
        "id": "9hHZC_qOJjhI"
      },
      "source": [
        "from sklearn.ensemble import GradientBoostingClassifier"
      ],
      "execution_count": 70,
      "outputs": []
    },
    {
      "cell_type": "code",
      "metadata": {
        "id": "gYNGEcTjJjhR"
      },
      "source": [
        "gbc = GradientBoostingClassifier()"
      ],
      "execution_count": 71,
      "outputs": []
    },
    {
      "cell_type": "code",
      "metadata": {
        "id": "qVC2qVbbeRR3",
        "outputId": "4372582f-6b9f-44c7-da61-bd2b0e20626b",
        "colab": {
          "base_uri": "https://localhost:8080/"
        }
      },
      "source": [
        "model_testing(gbc)"
      ],
      "execution_count": 72,
      "outputs": [
        {
          "output_type": "stream",
          "text": [
            "Training Accuracy:  0.9745472344591287 \n",
            "\n",
            "Testing Accuracy:  0.9509132420091324 \n",
            "\n",
            "              precision    recall  f1-score   support\n",
            "\n",
            "           0       0.96      0.99      0.97       778\n",
            "           1       0.88      0.65      0.75        98\n",
            "\n",
            "    accuracy                           0.95       876\n",
            "   macro avg       0.92      0.82      0.86       876\n",
            "weighted avg       0.95      0.95      0.95       876\n",
            "\n"
          ],
          "name": "stdout"
        },
        {
          "output_type": "execute_result",
          "data": {
            "text/plain": [
              "array([1, 1, 0, ..., 0, 0, 1])"
            ]
          },
          "metadata": {
            "tags": []
          },
          "execution_count": 72
        }
      ]
    },
    {
      "cell_type": "code",
      "metadata": {
        "id": "hJIvRrSSeSOU",
        "outputId": "cb1234db-aeba-4594-a270-e09c37611f91",
        "colab": {
          "base_uri": "https://localhost:8080/"
        }
      },
      "source": [
        "gbc.predict_proba(X_train)"
      ],
      "execution_count": 73,
      "outputs": [
        {
          "output_type": "execute_result",
          "data": {
            "text/plain": [
              "array([[0.97727118, 0.02272882],\n",
              "       [0.97534227, 0.02465773],\n",
              "       [0.9894031 , 0.0105969 ],\n",
              "       ...,\n",
              "       [0.97554601, 0.02445399],\n",
              "       [0.98751831, 0.01248169],\n",
              "       [0.61065264, 0.38934736]])"
            ]
          },
          "metadata": {
            "tags": []
          },
          "execution_count": 73
        }
      ]
    },
    {
      "cell_type": "code",
      "metadata": {
        "id": "mKYptTJ6eRNO",
        "outputId": "16b13070-8b80-4fce-8d72-0fa524bcee1c",
        "colab": {
          "base_uri": "https://localhost:8080/"
        }
      },
      "source": [
        "confusion_matrix(y_train, gbc.predict(X_train))"
      ],
      "execution_count": 74,
      "outputs": [
        {
          "output_type": "execute_result",
          "data": {
            "text/plain": [
              "array([[1813,    7],\n",
              "       [  45,  178]])"
            ]
          },
          "metadata": {
            "tags": []
          },
          "execution_count": 74
        }
      ]
    },
    {
      "cell_type": "code",
      "metadata": {
        "id": "Keb7MezUgxkE",
        "outputId": "c57d3e3f-51b2-42a7-bdd8-243cc22cfd7c",
        "colab": {
          "base_uri": "https://localhost:8080/",
          "height": 501
        }
      },
      "source": [
        "con_matrix = confusion_matrix(y_train, gbc.predict(X_train))\n",
        "plt.figure(figsize=(12, 8))\n",
        "sns.heatmap(con_matrix, annot=True)"
      ],
      "execution_count": 75,
      "outputs": [
        {
          "output_type": "execute_result",
          "data": {
            "text/plain": [
              "<matplotlib.axes._subplots.AxesSubplot at 0x7f23042479e8>"
            ]
          },
          "metadata": {
            "tags": []
          },
          "execution_count": 75
        },
        {
          "output_type": "display_data",
          "data": {
            "image/png": "[encoded data removed]",
            "text/plain": [
              "<Figure size 864x576 with 2 Axes>"
            ]
          },
          "metadata": {
            "tags": [],
            "needs_background": "light"
          }
        }
      ]
    },
    {
      "cell_type": "markdown",
      "metadata": {
        "id": "7DXkwSj5JjhW"
      },
      "source": [
        "# Evaluation\n",
        "\n",
        "- Select the best performing model and write your comments about why choose this model.\n",
        "- Analyse results and make comment about how you can improve model."
      ]
    },
    {
      "cell_type": "markdown",
      "metadata": {
        "id": "o1dsuyi3SiGo"
      },
      "source": [
        "The best performing model is **Random Forest** with:\n",
        "1.   Training Accuracy:  1.0 \n",
        "2.   Testing Accuracy:  0.9509132420091324"
      ]
    },
    {
      "cell_type": "markdown",
      "metadata": {
        "id": "U58Dcfv5SsR7"
      },
      "source": [
        "Hypertuning the model would improve it"
      ]
    }
  ]
}